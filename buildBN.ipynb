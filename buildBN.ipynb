{
 "cells": [
  {
   "cell_type": "code",
   "execution_count": null,
   "metadata": {},
   "outputs": [],
   "source": [
    "import pyAgrum as gum\n",
    "import pyAgrum.lib.notebook as gnb\n",
    "# Initialize the Bayesian Network\n",
    "bn = gum.BayesNet('StudentPerformance')\n",
    "\n",
    "# Add Nodes to the Network\n",
    "medu = bn.add(gum.LabelizedVariable(\"Medu\", \"Mother's Education\", 2))  # 0: No Higher Education, 1: Higher Education\n",
    "fedu = bn.add(gum.LabelizedVariable(\"Fedu\", \"Father's Education\", 2))  # 0: No Higher Education, 1: Higher Education\n",
    "higher = bn.add(gum.LabelizedVariable(\"Higher\", \"Higher Education\", 2))  # 0: No, 1: Yes\n",
    "absences = bn.add(gum.LabelizedVariable(\"Absences\", \"Absences\", 3))  # 0: Low, 1: Medium, 2: High\n",
    "studytime = bn.add(gum.LabelizedVariable(\"StudyTime\", \"Study Time\", 4))  # 0: Very Low, 1: Low, 2: Medium, 3: High\n",
    "failures = bn.add(gum.LabelizedVariable(\"Failures\", \"Failures\", 3))  # 0: 0, 1: 1, 2: More than 1\n",
    "final_grade = bn.add(gum.LabelizedVariable(\"FinalGrade\", \"Final Grade\", 2))  # 0: Fail, 1: Pass\n",
    "\n",
    "# Add arcs (dependencies) as per the Bayesian network structure\n",
    "bn.addArc(medu, higher)\n",
    "bn.addArc(fedu, higher)\n",
    "bn.addArc(higher, studytime)\n",
    "bn.addArc(absences, failures)\n",
    "bn.addArc(studytime, final_grade)\n",
    "bn.addArc(failures, final_grade)\n",
    "\n",
    "# Set CPT for Medu (Root node)\n",
    "bn.cpt(medu)[0] = 0.7303543913713405\n",
    "bn.cpt(medu)[1] = 0.2696456086286595\n",
    "\n",
    "# Set CPT for Fedu (Root node)\n",
    "bn.cpt(fedu)[0] = 0.802773497688752\n",
    "bn.cpt(fedu)[1] = 0.19722650231124808\n",
    "\n",
    "# Set CPT for Absences (Root node)\n",
    "bn.cpt(absences)[0] = 0.987673343605547  # Low\n",
    "bn.cpt(absences)[1] = 0.012326656394453005  # Medium\n",
    "\n",
    "# Set CPT for Higher (Dependent on Medu and Fedu)\n",
    "bn.cpt(higher)[0, 0] = [0.8480725623582767, 0.15192743764172337]  # Medu=0, Fedu=0\n",
    "bn.cpt(higher)[0, 1] = [1.0, 0.0]  # Medu=0, Fedu=1\n",
    "bn.cpt(higher)[1, 0] = [1.0, 0.0]  # Medu=1, Fedu=0\n",
    "bn.cpt(higher)[1, 1] = [0.9789473684210527, 0.021052631578947368]  # Medu=1, Fedu=1\n",
    "\n",
    "# Set CPT for Failures (Dependent on Absences)\n",
    "bn.cpt(failures)[0] = [0.8486739469578783, 0.1060842433697348, 0.0452418096723869]  # Absences=Low\n",
    "bn.cpt(failures)[1] = [0.625, 0.25, 0.125]  # Absences=Medium\n",
    "\n",
    "# Set CPT for Study Time (Dependent on Higher)\n",
    "bn.cpt(studytime)[0] = [0.6376811594202898, 0.2753623188405797, 0.057971014492753624, 0.028985507246376812]  # Higher=No\n",
    "bn.cpt(studytime)[1] = [0.2896551724137931, 0.49310344827586206, 0.16034482758620688, 0.056896551724137934]  # Higher=Yes\n",
    "\n",
    "# Set CPT for FinalGrade (Dependent on Failures and StudyTime)\n",
    "bn.cpt(final_grade)[0, 0] = [0.147239263803681, 0.852760736196319]  # Failures=0, StudyTime=Very Low\n",
    "bn.cpt(final_grade)[0, 1] = [0.08712121212121213, 0.9128787878787878]  # Failures=0, StudyTime=Low\n",
    "bn.cpt(final_grade)[0, 2] = [0.033707865168539325, 0.9662921348314607]  # Failures=0, StudyTime=Medium\n",
    "bn.cpt(final_grade)[0, 3] = [0.030303030303030304, 0.9696969696969697]  # Failures=0, StudyTime=High\n",
    "bn.cpt(final_grade)[1, 0] = [0.5, 0.5]  # Failures=1, StudyTime=Very Low\n",
    "bn.cpt(final_grade)[1, 1] = [0.34615384615384615, 0.6538461538461539]  # Failures=1, StudyTime=Low\n",
    "bn.cpt(final_grade)[1, 2] = [0.6666666666666666, 0.3333333333333333]  # Failures=1, StudyTime=Medium\n",
    "bn.cpt(final_grade)[1, 3] = [0.5, 0.5]  # Failures=1, StudyTime=High\n",
    "bn.cpt(final_grade)[2, 0] = [0.6153846153846154, 0.38461538461538464]  # Failures=More than 1, StudyTime=Very Low\n",
    "bn.cpt(final_grade)[2, 1] = [0.6, 0.4]  # Failures=More than 1, StudyTime=Low\n",
    "bn.cpt(final_grade)[2, 2] = [0.0, 1.0]  # Failures=More than 1, StudyTime=Medium\n",
    "\n",
    "# Print the structure of the network\n",
    "print(\"Bayesian Network Structure:\")\n",
    "print(bn)\n",
    "\n",
    "# Print the CPTs for each node\n",
    "nodes = ['Medu', 'Fedu', 'Absences', 'Higher', 'Failures', 'StudyTime', 'FinalGrade']\n",
    "for node in nodes:\n",
    "    print(f\"\\nCPT of {node}:\")\n",
    "    print(bn.cpt(bn.idFromName(node)))\n",
    "\n",
    "# Save the Bayesian network to a file\n",
    "gum.saveBN(bn, 'student_performance.bif')\n",
    "\n",
    "# Inference Example: Predict Final Grade\n",
    "ie = gum.LazyPropagation(bn)\n",
    "# Example evidence with correct mappings\n",
    "ie.setEvidence({\n",
    "    'Medu': 1,  # Higher Education for Mother\n",
    "    'Fedu': 1,  # Higher Education for Father\n",
    "    'Higher': 1,  # Yes to Higher Education\n",
    "    'StudyTime': 2,  # Medium Study Time\n",
    "    'Failures': 0  # No Failures\n",
    "})\n",
    "ie.makeInference()\n",
    "print(\"\\nPosterior distribution of FinalGrade:\")\n",
    "print(ie.posterior(bn.idFromName('FinalGrade')))\n",
    "\n"
   ]
  },
  {
   "cell_type": "code",
   "execution_count": 9,
   "metadata": {},
   "outputs": [
    {
     "data": {
      "text/html": [
       "<table style=\"border:1px solid black;border-collapse: collapse;\">\n",
       "<tr style='border:1px solid black;color:black;background-color:#808080'>\n",
       "      <th colspan='2'><center>Medu</center></th></tr>\n",
       "<tr><th style='border:1px solid black;border-bottom-style: double;color:black;background-color:#BBBBBB'>\n",
       "      <center>0</center></th><th style='border:1px solid black;border-bottom-style: double;color:black;background-color:#BBBBBB'>\n",
       "      <center>1</center></th></tr>\n",
       "<tr><td style='color:black;background-color:#a1dc64;text-align:right;padding: 3px;'>0.7304</td><td style='color:black;background-color:#dca164;text-align:right;padding: 3px;'>0.2696</td></tr>\n",
       "</table>"
      ],
      "text/plain": [
       "(pyAgrum.Potential<double>@000001FD34EA11C0) \n",
       "  Medu             |\n",
       "0        |1        |\n",
       "---------|---------|\n",
       " 0.7304  | 0.2696  |"
      ]
     },
     "execution_count": 9,
     "metadata": {},
     "output_type": "execute_result"
    }
   ],
   "source": [
    "bn.cpt(medu)"
   ]
  },
  {
   "cell_type": "code",
   "execution_count": 10,
   "metadata": {},
   "outputs": [
    {
     "data": {
      "text/html": [
       "<table style=\"border:1px solid black;border-collapse: collapse;\">\n",
       "<tr style='border:1px solid black;color:black;background-color:#808080'>\n",
       "      <th colspan='2'><center>Fedu</center></th></tr>\n",
       "<tr><th style='border:1px solid black;border-bottom-style: double;color:black;background-color:#BBBBBB'>\n",
       "      <center>0</center></th><th style='border:1px solid black;border-bottom-style: double;color:black;background-color:#BBBBBB'>\n",
       "      <center>1</center></th></tr>\n",
       "<tr><td style='color:black;background-color:#98e564;text-align:right;padding: 3px;'>0.8028</td><td style='color:black;background-color:#e59864;text-align:right;padding: 3px;'>0.1972</td></tr>\n",
       "</table>"
      ],
      "text/plain": [
       "(pyAgrum.Potential<double>@000001FD34EA16A0) \n",
       "  Fedu             |\n",
       "0        |1        |\n",
       "---------|---------|\n",
       " 0.8028  | 0.1972  |"
      ]
     },
     "execution_count": 10,
     "metadata": {},
     "output_type": "execute_result"
    }
   ],
   "source": [
    "bn.cpt(fedu)"
   ]
  },
  {
   "cell_type": "code",
   "execution_count": 11,
   "metadata": {},
   "outputs": [
    {
     "data": {
      "text/html": [
       "<table style=\"border:1px solid black;border-collapse: collapse;\">\n",
       "<tr style='border:1px solid black;color:black;background-color:#808080'>\n",
       "      <th colspan='3'><center>Absences</center></th></tr>\n",
       "<tr><th style='border:1px solid black;border-bottom-style: double;color:black;background-color:#BBBBBB'>\n",
       "      <center>0</center></th><th style='border:1px solid black;border-bottom-style: double;color:black;background-color:#BBBBBB'>\n",
       "      <center>1</center></th><th style='border:1px solid black;border-bottom-style: double;color:black;background-color:#BBBBBB'>\n",
       "      <center>2</center></th></tr>\n",
       "<tr><td style='color:black;background-color:#80fd64;text-align:right;padding: 3px;'>0.9877</td><td style='color:black;background-color:#fd8064;text-align:right;padding: 3px;'>0.0123</td><td style='color:black;background-color:#ff7f64;text-align:right;padding: 3px;'>0.0000</td></tr>\n",
       "</table>"
      ],
      "text/plain": [
       "(pyAgrum.Potential<double>@000001FD34EA1300) \n",
       "  Absences                   |\n",
       "0        |1        |2        |\n",
       "---------|---------|---------|\n",
       " 0.9877  | 0.0123  | 0.0000  |"
      ]
     },
     "execution_count": 11,
     "metadata": {},
     "output_type": "execute_result"
    }
   ],
   "source": [
    "bn.cpt(absences)"
   ]
  },
  {
   "cell_type": "code",
   "execution_count": 12,
   "metadata": {},
   "outputs": [
    {
     "data": {
      "text/html": [
       "<table style=\"border:1px solid black;border-collapse: collapse;\">\n",
       "<tr><th colspan='2'></th>\n",
       "      <th colspan='2' style='border:1px solid black;color:black;background-color:#808080;'><center>Higher</center>\n",
       "      </th></tr>\n",
       "<tr><th style='border:1px solid black;color:black;background-color:#808080'><center>Fedu</center></th><th style='border:1px solid black;color:black;background-color:#808080'><center>Medu</center></th><th style='border:1px solid black;border-bottom-style: double;color:black;background-color:#BBBBBB'>\n",
       "      <center>0</center></th><th style='border:1px solid black;border-bottom-style: double;color:black;background-color:#BBBBBB'>\n",
       "      <center>1</center></th></tr>\n",
       "<tr><th style='border:1px solid black;color:black;background-color:#BBBBBB;' rowspan = '2'>\n",
       "            <center>0</center></th><th style='border:1px solid black;color:black;background-color:#BBBBBB'><center>0</center></th><td style='color:black;background-color:#92eb64;text-align:right;padding: 3px;'>0.8481</td><td style='color:black;background-color:#eb9264;text-align:right;padding: 3px;'>0.1519</td></tr>\n",
       "<tr><th style='border:1px solid black;color:black;background-color:#BBBBBB'><center>1</center></th><td style='color:black;background-color:#7fff64;text-align:right;padding: 3px;'>1.0000</td><td style='color:black;background-color:#ff7f64;text-align:right;padding: 3px;'>0.0000</td></tr>\n",
       "<tr><th style='border:1px solid black;color:black;background-color:#BBBBBB;' rowspan = '2'>\n",
       "            <center>1</center></th><th style='border:1px solid black;color:black;background-color:#BBBBBB'><center>0</center></th><td style='color:black;background-color:#7fff64;text-align:right;padding: 3px;'>1.0000</td><td style='color:black;background-color:#ff7f64;text-align:right;padding: 3px;'>0.0000</td></tr>\n",
       "<tr><th style='border:1px solid black;color:black;background-color:#BBBBBB'><center>1</center></th><td style='color:black;background-color:#81fc64;text-align:right;padding: 3px;'>0.9789</td><td style='color:black;background-color:#fc8164;text-align:right;padding: 3px;'>0.0211</td></tr>\n",
       "</table>"
      ],
      "text/plain": [
       "(pyAgrum.Potential<double>@000001FD34EA12E0) \n",
       "             ||  Higher           |\n",
       "Medu  |Fedu  ||0        |1        |\n",
       "------|------||---------|---------|\n",
       "0     |0     || 0.8481  | 0.1519  |\n",
       "1     |0     || 1.0000  | 0.0000  |\n",
       "0     |1     || 1.0000  | 0.0000  |\n",
       "1     |1     || 0.9789  | 0.0211  |"
      ]
     },
     "execution_count": 12,
     "metadata": {},
     "output_type": "execute_result"
    }
   ],
   "source": [
    "bn.cpt(higher)"
   ]
  },
  {
   "cell_type": "code",
   "execution_count": 13,
   "metadata": {},
   "outputs": [
    {
     "data": {
      "text/html": [
       "<table style=\"border:1px solid black;border-collapse: collapse;\">\n",
       "<tr><th colspan='1'></th>\n",
       "      <th colspan='3' style='border:1px solid black;color:black;background-color:#808080;'><center>Failures</center>\n",
       "      </th></tr>\n",
       "<tr><th style='border:1px solid black;color:black;background-color:#808080'><center>Absences</center></th><th style='border:1px solid black;border-bottom-style: double;color:black;background-color:#BBBBBB'>\n",
       "      <center>0</center></th><th style='border:1px solid black;border-bottom-style: double;color:black;background-color:#BBBBBB'>\n",
       "      <center>1</center></th><th style='border:1px solid black;border-bottom-style: double;color:black;background-color:#BBBBBB'>\n",
       "      <center>2</center></th></tr>\n",
       "<tr><th style='border:1px solid black;color:black;background-color:#BBBBBB'><center>0</center></th><td style='text-align:right;padding: 3px;'>0.8487</td><td style='text-align:right;padding: 3px;'>0.1061</td><td style='text-align:right;padding: 3px;'>0.0452</td></tr>\n",
       "<tr><th style='border:1px solid black;color:black;background-color:#BBBBBB'><center>1</center></th><td style='text-align:right;padding: 3px;'>0.6250</td><td style='text-align:right;padding: 3px;'>0.2500</td><td style='text-align:right;padding: 3px;'>0.1250</td></tr>\n",
       "<tr><th style='border:1px solid black;color:black;background-color:#BBBBBB'><center>2</center></th><td style='text-align:right;padding: 3px;'>0.0000</td><td style='text-align:right;padding: 3px;'>0.0000</td><td style='text-align:right;padding: 3px;'>0.0000</td></tr>\n",
       "</table>"
      ],
      "text/plain": [
       "(pyAgrum.Potential<double>@000001FD34EA1020) \n",
       "      ||  Failures                   |\n",
       "Absenc||0        |1        |2        |\n",
       "------||---------|---------|---------|\n",
       "0     || 0.8487  | 0.1061  | 0.0452  |\n",
       "1     || 0.6250  | 0.2500  | 0.1250  |\n",
       "2     || 0.0000  | 0.0000  | 0.0000  |"
      ]
     },
     "execution_count": 13,
     "metadata": {},
     "output_type": "execute_result"
    }
   ],
   "source": [
    "bn.cpt(failures)"
   ]
  },
  {
   "cell_type": "code",
   "execution_count": 14,
   "metadata": {},
   "outputs": [
    {
     "data": {
      "text/html": [
       "<table style=\"border:1px solid black;border-collapse: collapse;\">\n",
       "<tr><th colspan='1'></th>\n",
       "      <th colspan='4' style='border:1px solid black;color:black;background-color:#808080;'><center>StudyTime</center>\n",
       "      </th></tr>\n",
       "<tr><th style='border:1px solid black;color:black;background-color:#808080'><center>Higher</center></th><th style='border:1px solid black;border-bottom-style: double;color:black;background-color:#BBBBBB'>\n",
       "      <center>0</center></th><th style='border:1px solid black;border-bottom-style: double;color:black;background-color:#BBBBBB'>\n",
       "      <center>1</center></th><th style='border:1px solid black;border-bottom-style: double;color:black;background-color:#BBBBBB'>\n",
       "      <center>2</center></th><th style='border:1px solid black;border-bottom-style: double;color:black;background-color:#BBBBBB'>\n",
       "      <center>3</center></th></tr>\n",
       "<tr><th style='border:1px solid black;color:black;background-color:#BBBBBB'><center>0</center></th><td style='color:black;background-color:#add064;text-align:right;padding: 3px;'>0.6377</td><td style='color:black;background-color:#dba264;text-align:right;padding: 3px;'>0.2754</td><td style='color:black;background-color:#f78664;text-align:right;padding: 3px;'>0.0580</td><td style='color:black;background-color:#fb8264;text-align:right;padding: 3px;'>0.0290</td></tr>\n",
       "<tr><th style='border:1px solid black;color:black;background-color:#BBBBBB'><center>1</center></th><td style='color:black;background-color:#d9a464;text-align:right;padding: 3px;'>0.2897</td><td style='color:black;background-color:#bfbe64;text-align:right;padding: 3px;'>0.4931</td><td style='color:black;background-color:#ea9364;text-align:right;padding: 3px;'>0.1603</td><td style='color:black;background-color:#f78664;text-align:right;padding: 3px;'>0.0569</td></tr>\n",
       "</table>"
      ],
      "text/plain": [
       "(pyAgrum.Potential<double>@000001FD34EA1760) \n",
       "      ||  StudyTime                            |\n",
       "Higher||0        |1        |2        |3        |\n",
       "------||---------|---------|---------|---------|\n",
       "0     || 0.6377  | 0.2754  | 0.0580  | 0.0290  |\n",
       "1     || 0.2897  | 0.4931  | 0.1603  | 0.0569  |"
      ]
     },
     "execution_count": 14,
     "metadata": {},
     "output_type": "execute_result"
    }
   ],
   "source": [
    "bn.cpt(studytime)"
   ]
  },
  {
   "cell_type": "code",
   "execution_count": 15,
   "metadata": {},
   "outputs": [
    {
     "data": {
      "text/html": [
       "<table style=\"border:1px solid black;border-collapse: collapse;\">\n",
       "<tr><th colspan='2'></th>\n",
       "      <th colspan='2' style='border:1px solid black;color:black;background-color:#808080;'><center>FinalGrade</center>\n",
       "      </th></tr>\n",
       "<tr><th style='border:1px solid black;color:black;background-color:#808080'><center>Failures</center></th><th style='border:1px solid black;color:black;background-color:#808080'><center>StudyTime</center></th><th style='border:1px solid black;border-bottom-style: double;color:black;background-color:#BBBBBB'>\n",
       "      <center>0</center></th><th style='border:1px solid black;border-bottom-style: double;color:black;background-color:#BBBBBB'>\n",
       "      <center>1</center></th></tr>\n",
       "<tr><th style='border:1px solid black;color:black;background-color:#BBBBBB;' rowspan = '4'>\n",
       "            <center>0</center></th><th style='border:1px solid black;color:black;background-color:#BBBBBB'><center>0</center></th><td style='text-align:right;padding: 3px;'>0.1472</td><td style='text-align:right;padding: 3px;'>0.8528</td></tr>\n",
       "<tr><th style='border:1px solid black;color:black;background-color:#BBBBBB'><center>1</center></th><td style='text-align:right;padding: 3px;'>0.0871</td><td style='text-align:right;padding: 3px;'>0.9129</td></tr>\n",
       "<tr><th style='border:1px solid black;color:black;background-color:#BBBBBB'><center>2</center></th><td style='text-align:right;padding: 3px;'>0.0337</td><td style='text-align:right;padding: 3px;'>0.9663</td></tr>\n",
       "<tr><th style='border:1px solid black;color:black;background-color:#BBBBBB'><center>3</center></th><td style='text-align:right;padding: 3px;'>0.0303</td><td style='text-align:right;padding: 3px;'>0.9697</td></tr>\n",
       "<tr><th style='border:1px solid black;color:black;background-color:#BBBBBB;' rowspan = '4'>\n",
       "            <center>1</center></th><th style='border:1px solid black;color:black;background-color:#BBBBBB'><center>0</center></th><td style='text-align:right;padding: 3px;'>0.5000</td><td style='text-align:right;padding: 3px;'>0.5000</td></tr>\n",
       "<tr><th style='border:1px solid black;color:black;background-color:#BBBBBB'><center>1</center></th><td style='text-align:right;padding: 3px;'>0.3462</td><td style='text-align:right;padding: 3px;'>0.6538</td></tr>\n",
       "<tr><th style='border:1px solid black;color:black;background-color:#BBBBBB'><center>2</center></th><td style='text-align:right;padding: 3px;'>0.6667</td><td style='text-align:right;padding: 3px;'>0.3333</td></tr>\n",
       "<tr><th style='border:1px solid black;color:black;background-color:#BBBBBB'><center>3</center></th><td style='text-align:right;padding: 3px;'>0.5000</td><td style='text-align:right;padding: 3px;'>0.5000</td></tr>\n",
       "<tr><th style='border:1px solid black;color:black;background-color:#BBBBBB;' rowspan = '4'>\n",
       "            <center>2</center></th><th style='border:1px solid black;color:black;background-color:#BBBBBB'><center>0</center></th><td style='text-align:right;padding: 3px;'>0.6154</td><td style='text-align:right;padding: 3px;'>0.3846</td></tr>\n",
       "<tr><th style='border:1px solid black;color:black;background-color:#BBBBBB'><center>1</center></th><td style='text-align:right;padding: 3px;'>0.6000</td><td style='text-align:right;padding: 3px;'>0.4000</td></tr>\n",
       "<tr><th style='border:1px solid black;color:black;background-color:#BBBBBB'><center>2</center></th><td style='text-align:right;padding: 3px;'>0.0000</td><td style='text-align:right;padding: 3px;'>1.0000</td></tr>\n",
       "<tr><th style='border:1px solid black;color:black;background-color:#BBBBBB'><center>3</center></th><td style='text-align:right;padding: 3px;'>0.0000</td><td style='text-align:right;padding: 3px;'>0.0000</td></tr>\n",
       "</table>"
      ],
      "text/plain": [
       "(pyAgrum.Potential<double>@000001FD34EA1480) \n",
       "             ||  FinalGrade       |\n",
       "StudyT|Failur||0        |1        |\n",
       "------|------||---------|---------|\n",
       "0     |0     || 0.1472  | 0.8528  |\n",
       "1     |0     || 0.0871  | 0.9129  |\n",
       "2     |0     || 0.0337  | 0.9663  |\n",
       "3     |0     || 0.0303  | 0.9697  |\n",
       "0     |1     || 0.5000  | 0.5000  |\n",
       "1     |1     || 0.3462  | 0.6538  |\n",
       "2     |1     || 0.6667  | 0.3333  |\n",
       "3     |1     || 0.5000  | 0.5000  |\n",
       "0     |2     || 0.6154  | 0.3846  |\n",
       "1     |2     || 0.6000  | 0.4000  |\n",
       "2     |2     || 0.0000  | 1.0000  |\n",
       "3     |2     || 0.0000  | 0.0000  |"
      ]
     },
     "execution_count": 15,
     "metadata": {},
     "output_type": "execute_result"
    }
   ],
   "source": [
    "bn.cpt(final_grade)"
   ]
  },
  {
   "cell_type": "code",
   "execution_count": 16,
   "metadata": {},
   "outputs": [
    {
     "data": {
      "text/html": [
       "<table style=\"border:1px solid black;border-collapse: collapse;\"><tr><th colspan='2'></th>\n",
       "      <th colspan='2' style='border:1px solid black;color:black;background-color:#808080;'><center>FinalGrade</center>\n",
       "      </th></tr><tr><th style='border:1px solid black;color:black;background-color:#808080'><center>Failures</center></th><th style='border:1px solid black;color:black;background-color:#808080'><center>StudyTime</center></th><th style='border:1px solid black;border-bottom-style: double;color:black;background-color:#BBBBBB'>\n",
       "      <center>0</center></th><th style='border:1px solid black;border-bottom-style: double;color:black;background-color:#BBBBBB'>\n",
       "      <center>1</center></th></tr><tr><th style='border:1px solid black;color:black;background-color:#BBBBBB;' rowspan = '4'>\n",
       "            <center>0</center></th><th style='border:1px solid black;color:black;background-color:#BBBBBB'><center>0</center></th><td style='text-align:right;padding: 3px;'>0.1472</td><td style='text-align:right;padding: 3px;'>0.8528</td></tr><tr><th style='border:1px solid black;color:black;background-color:#BBBBBB'><center>1</center></th><td style='text-align:right;padding: 3px;'>0.0871</td><td style='text-align:right;padding: 3px;'>0.9129</td></tr><tr><th style='border:1px solid black;color:black;background-color:#BBBBBB'><center>2</center></th><td style='text-align:right;padding: 3px;'>0.0337</td><td style='text-align:right;padding: 3px;'>0.9663</td></tr><tr><th style='border:1px solid black;color:black;background-color:#BBBBBB'><center>3</center></th><td style='text-align:right;padding: 3px;'>0.0303</td><td style='text-align:right;padding: 3px;'>0.9697</td></tr><tr><th style='border:1px solid black;color:black;background-color:#BBBBBB;' rowspan = '4'>\n",
       "            <center>1</center></th><th style='border:1px solid black;color:black;background-color:#BBBBBB'><center>0</center></th><td style='text-align:right;padding: 3px;'>0.5000</td><td style='text-align:right;padding: 3px;'>0.5000</td></tr><tr><th style='border:1px solid black;color:black;background-color:#BBBBBB'><center>1</center></th><td style='text-align:right;padding: 3px;'>0.3462</td><td style='text-align:right;padding: 3px;'>0.6538</td></tr><tr><th style='border:1px solid black;color:black;background-color:#BBBBBB'><center>2</center></th><td style='text-align:right;padding: 3px;'>0.6667</td><td style='text-align:right;padding: 3px;'>0.3333</td></tr><tr><th style='border:1px solid black;color:black;background-color:#BBBBBB'><center>3</center></th><td style='text-align:right;padding: 3px;'>0.5000</td><td style='text-align:right;padding: 3px;'>0.5000</td></tr><tr><th style='border:1px solid black;color:black;background-color:#BBBBBB;' rowspan = '4'>\n",
       "            <center>2</center></th><th style='border:1px solid black;color:black;background-color:#BBBBBB'><center>0</center></th><td style='text-align:right;padding: 3px;'>0.6154</td><td style='text-align:right;padding: 3px;'>0.3846</td></tr><tr><th style='border:1px solid black;color:black;background-color:#BBBBBB'><center>1</center></th><td style='text-align:right;padding: 3px;'>0.6000</td><td style='text-align:right;padding: 3px;'>0.4000</td></tr><tr><th style='border:1px solid black;color:black;background-color:#BBBBBB'><center>2</center></th><td style='text-align:right;padding: 3px;'>0.0000</td><td style='text-align:right;padding: 3px;'>1.0000</td></tr><tr><th style='border:1px solid black;color:black;background-color:#BBBBBB'><center>3</center></th><td style='text-align:right;padding: 3px;'>0.0000</td><td style='text-align:right;padding: 3px;'>0.0000</td></tr></table>"
      ],
      "text/plain": [
       "<IPython.core.display.HTML object>"
      ]
     },
     "metadata": {},
     "output_type": "display_data"
    },
    {
     "name": "stdout",
     "output_type": "stream",
     "text": [
      "\n",
      "CPT of Medu:\n"
     ]
    },
    {
     "data": {
      "text/html": [
       "<table style=\"border:1px solid black;border-collapse: collapse;\"><tr style='border:1px solid black;color:black;background-color:#808080'>\n",
       "      <th colspan='2'><center>Medu</center></th></tr><tr><th style='border:1px solid black;border-bottom-style: double;color:black;background-color:#BBBBBB'>\n",
       "      <center>0</center></th><th style='border:1px solid black;border-bottom-style: double;color:black;background-color:#BBBBBB'>\n",
       "      <center>1</center></th></tr><tr><td style='color:black;background-color:#a1dc64;text-align:right;padding: 3px;'>0.7304</td><td style='color:black;background-color:#dca164;text-align:right;padding: 3px;'>0.2696</td></tr></table>"
      ],
      "text/plain": [
       "<IPython.core.display.HTML object>"
      ]
     },
     "metadata": {},
     "output_type": "display_data"
    },
    {
     "name": "stdout",
     "output_type": "stream",
     "text": [
      "\n",
      "CPT of Fedu:\n"
     ]
    },
    {
     "data": {
      "text/html": [
       "<table style=\"border:1px solid black;border-collapse: collapse;\"><tr style='border:1px solid black;color:black;background-color:#808080'>\n",
       "      <th colspan='2'><center>Fedu</center></th></tr><tr><th style='border:1px solid black;border-bottom-style: double;color:black;background-color:#BBBBBB'>\n",
       "      <center>0</center></th><th style='border:1px solid black;border-bottom-style: double;color:black;background-color:#BBBBBB'>\n",
       "      <center>1</center></th></tr><tr><td style='color:black;background-color:#98e564;text-align:right;padding: 3px;'>0.8028</td><td style='color:black;background-color:#e59864;text-align:right;padding: 3px;'>0.1972</td></tr></table>"
      ],
      "text/plain": [
       "<IPython.core.display.HTML object>"
      ]
     },
     "metadata": {},
     "output_type": "display_data"
    },
    {
     "name": "stdout",
     "output_type": "stream",
     "text": [
      "\n",
      "CPT of Higher:\n"
     ]
    },
    {
     "data": {
      "text/html": [
       "<table style=\"border:1px solid black;border-collapse: collapse;\"><tr><th colspan='2'></th>\n",
       "      <th colspan='2' style='border:1px solid black;color:black;background-color:#808080;'><center>Higher</center>\n",
       "      </th></tr><tr><th style='border:1px solid black;color:black;background-color:#808080'><center>Fedu</center></th><th style='border:1px solid black;color:black;background-color:#808080'><center>Medu</center></th><th style='border:1px solid black;border-bottom-style: double;color:black;background-color:#BBBBBB'>\n",
       "      <center>0</center></th><th style='border:1px solid black;border-bottom-style: double;color:black;background-color:#BBBBBB'>\n",
       "      <center>1</center></th></tr><tr><th style='border:1px solid black;color:black;background-color:#BBBBBB;' rowspan = '2'>\n",
       "            <center>0</center></th><th style='border:1px solid black;color:black;background-color:#BBBBBB'><center>0</center></th><td style='color:black;background-color:#92eb64;text-align:right;padding: 3px;'>0.8481</td><td style='color:black;background-color:#eb9264;text-align:right;padding: 3px;'>0.1519</td></tr><tr><th style='border:1px solid black;color:black;background-color:#BBBBBB'><center>1</center></th><td style='color:black;background-color:#7fff64;text-align:right;padding: 3px;'>1.0000</td><td style='color:black;background-color:#ff7f64;text-align:right;padding: 3px;'>0.0000</td></tr><tr><th style='border:1px solid black;color:black;background-color:#BBBBBB;' rowspan = '2'>\n",
       "            <center>1</center></th><th style='border:1px solid black;color:black;background-color:#BBBBBB'><center>0</center></th><td style='color:black;background-color:#7fff64;text-align:right;padding: 3px;'>1.0000</td><td style='color:black;background-color:#ff7f64;text-align:right;padding: 3px;'>0.0000</td></tr><tr><th style='border:1px solid black;color:black;background-color:#BBBBBB'><center>1</center></th><td style='color:black;background-color:#81fc64;text-align:right;padding: 3px;'>0.9789</td><td style='color:black;background-color:#fc8164;text-align:right;padding: 3px;'>0.0211</td></tr></table>"
      ],
      "text/plain": [
       "<IPython.core.display.HTML object>"
      ]
     },
     "metadata": {},
     "output_type": "display_data"
    },
    {
     "name": "stdout",
     "output_type": "stream",
     "text": [
      "\n",
      "CPT of Absences:\n"
     ]
    },
    {
     "data": {
      "text/html": [
       "<table style=\"border:1px solid black;border-collapse: collapse;\"><tr style='border:1px solid black;color:black;background-color:#808080'>\n",
       "      <th colspan='3'><center>Absences</center></th></tr><tr><th style='border:1px solid black;border-bottom-style: double;color:black;background-color:#BBBBBB'>\n",
       "      <center>0</center></th><th style='border:1px solid black;border-bottom-style: double;color:black;background-color:#BBBBBB'>\n",
       "      <center>1</center></th><th style='border:1px solid black;border-bottom-style: double;color:black;background-color:#BBBBBB'>\n",
       "      <center>2</center></th></tr><tr><td style='color:black;background-color:#80fd64;text-align:right;padding: 3px;'>0.9877</td><td style='color:black;background-color:#fd8064;text-align:right;padding: 3px;'>0.0123</td><td style='color:black;background-color:#ff7f64;text-align:right;padding: 3px;'>0.0000</td></tr></table>"
      ],
      "text/plain": [
       "<IPython.core.display.HTML object>"
      ]
     },
     "metadata": {},
     "output_type": "display_data"
    },
    {
     "name": "stdout",
     "output_type": "stream",
     "text": [
      "\n",
      "CPT of Failures:\n"
     ]
    },
    {
     "data": {
      "text/html": [
       "<table style=\"border:1px solid black;border-collapse: collapse;\"><tr><th colspan='1'></th>\n",
       "      <th colspan='3' style='border:1px solid black;color:black;background-color:#808080;'><center>Failures</center>\n",
       "      </th></tr><tr><th style='border:1px solid black;color:black;background-color:#808080'><center>Absences</center></th><th style='border:1px solid black;border-bottom-style: double;color:black;background-color:#BBBBBB'>\n",
       "      <center>0</center></th><th style='border:1px solid black;border-bottom-style: double;color:black;background-color:#BBBBBB'>\n",
       "      <center>1</center></th><th style='border:1px solid black;border-bottom-style: double;color:black;background-color:#BBBBBB'>\n",
       "      <center>2</center></th></tr><tr><th style='border:1px solid black;color:black;background-color:#BBBBBB'><center>0</center></th><td style='text-align:right;padding: 3px;'>0.8487</td><td style='text-align:right;padding: 3px;'>0.1061</td><td style='text-align:right;padding: 3px;'>0.0452</td></tr><tr><th style='border:1px solid black;color:black;background-color:#BBBBBB'><center>1</center></th><td style='text-align:right;padding: 3px;'>0.6250</td><td style='text-align:right;padding: 3px;'>0.2500</td><td style='text-align:right;padding: 3px;'>0.1250</td></tr><tr><th style='border:1px solid black;color:black;background-color:#BBBBBB'><center>2</center></th><td style='text-align:right;padding: 3px;'>0.0000</td><td style='text-align:right;padding: 3px;'>0.0000</td><td style='text-align:right;padding: 3px;'>0.0000</td></tr></table>"
      ],
      "text/plain": [
       "<IPython.core.display.HTML object>"
      ]
     },
     "metadata": {},
     "output_type": "display_data"
    },
    {
     "name": "stdout",
     "output_type": "stream",
     "text": [
      "\n",
      "CPT of StudyTime:\n"
     ]
    },
    {
     "data": {
      "text/html": [
       "<table style=\"border:1px solid black;border-collapse: collapse;\"><tr><th colspan='1'></th>\n",
       "      <th colspan='4' style='border:1px solid black;color:black;background-color:#808080;'><center>StudyTime</center>\n",
       "      </th></tr><tr><th style='border:1px solid black;color:black;background-color:#808080'><center>Higher</center></th><th style='border:1px solid black;border-bottom-style: double;color:black;background-color:#BBBBBB'>\n",
       "      <center>0</center></th><th style='border:1px solid black;border-bottom-style: double;color:black;background-color:#BBBBBB'>\n",
       "      <center>1</center></th><th style='border:1px solid black;border-bottom-style: double;color:black;background-color:#BBBBBB'>\n",
       "      <center>2</center></th><th style='border:1px solid black;border-bottom-style: double;color:black;background-color:#BBBBBB'>\n",
       "      <center>3</center></th></tr><tr><th style='border:1px solid black;color:black;background-color:#BBBBBB'><center>0</center></th><td style='color:black;background-color:#add064;text-align:right;padding: 3px;'>0.6377</td><td style='color:black;background-color:#dba264;text-align:right;padding: 3px;'>0.2754</td><td style='color:black;background-color:#f78664;text-align:right;padding: 3px;'>0.0580</td><td style='color:black;background-color:#fb8264;text-align:right;padding: 3px;'>0.0290</td></tr><tr><th style='border:1px solid black;color:black;background-color:#BBBBBB'><center>1</center></th><td style='color:black;background-color:#d9a464;text-align:right;padding: 3px;'>0.2897</td><td style='color:black;background-color:#bfbe64;text-align:right;padding: 3px;'>0.4931</td><td style='color:black;background-color:#ea9364;text-align:right;padding: 3px;'>0.1603</td><td style='color:black;background-color:#f78664;text-align:right;padding: 3px;'>0.0569</td></tr></table>"
      ],
      "text/plain": [
       "<IPython.core.display.HTML object>"
      ]
     },
     "metadata": {},
     "output_type": "display_data"
    },
    {
     "name": "stdout",
     "output_type": "stream",
     "text": [
      "\n",
      "CPT of FinalGrade:\n"
     ]
    },
    {
     "data": {
      "text/html": [
       "<table style=\"border:1px solid black;border-collapse: collapse;\"><tr><th colspan='2'></th>\n",
       "      <th colspan='2' style='border:1px solid black;color:black;background-color:#808080;'><center>FinalGrade</center>\n",
       "      </th></tr><tr><th style='border:1px solid black;color:black;background-color:#808080'><center>Failures</center></th><th style='border:1px solid black;color:black;background-color:#808080'><center>StudyTime</center></th><th style='border:1px solid black;border-bottom-style: double;color:black;background-color:#BBBBBB'>\n",
       "      <center>0</center></th><th style='border:1px solid black;border-bottom-style: double;color:black;background-color:#BBBBBB'>\n",
       "      <center>1</center></th></tr><tr><th style='border:1px solid black;color:black;background-color:#BBBBBB;' rowspan = '4'>\n",
       "            <center>0</center></th><th style='border:1px solid black;color:black;background-color:#BBBBBB'><center>0</center></th><td style='text-align:right;padding: 3px;'>0.1472</td><td style='text-align:right;padding: 3px;'>0.8528</td></tr><tr><th style='border:1px solid black;color:black;background-color:#BBBBBB'><center>1</center></th><td style='text-align:right;padding: 3px;'>0.0871</td><td style='text-align:right;padding: 3px;'>0.9129</td></tr><tr><th style='border:1px solid black;color:black;background-color:#BBBBBB'><center>2</center></th><td style='text-align:right;padding: 3px;'>0.0337</td><td style='text-align:right;padding: 3px;'>0.9663</td></tr><tr><th style='border:1px solid black;color:black;background-color:#BBBBBB'><center>3</center></th><td style='text-align:right;padding: 3px;'>0.0303</td><td style='text-align:right;padding: 3px;'>0.9697</td></tr><tr><th style='border:1px solid black;color:black;background-color:#BBBBBB;' rowspan = '4'>\n",
       "            <center>1</center></th><th style='border:1px solid black;color:black;background-color:#BBBBBB'><center>0</center></th><td style='text-align:right;padding: 3px;'>0.5000</td><td style='text-align:right;padding: 3px;'>0.5000</td></tr><tr><th style='border:1px solid black;color:black;background-color:#BBBBBB'><center>1</center></th><td style='text-align:right;padding: 3px;'>0.3462</td><td style='text-align:right;padding: 3px;'>0.6538</td></tr><tr><th style='border:1px solid black;color:black;background-color:#BBBBBB'><center>2</center></th><td style='text-align:right;padding: 3px;'>0.6667</td><td style='text-align:right;padding: 3px;'>0.3333</td></tr><tr><th style='border:1px solid black;color:black;background-color:#BBBBBB'><center>3</center></th><td style='text-align:right;padding: 3px;'>0.5000</td><td style='text-align:right;padding: 3px;'>0.5000</td></tr><tr><th style='border:1px solid black;color:black;background-color:#BBBBBB;' rowspan = '4'>\n",
       "            <center>2</center></th><th style='border:1px solid black;color:black;background-color:#BBBBBB'><center>0</center></th><td style='text-align:right;padding: 3px;'>0.6154</td><td style='text-align:right;padding: 3px;'>0.3846</td></tr><tr><th style='border:1px solid black;color:black;background-color:#BBBBBB'><center>1</center></th><td style='text-align:right;padding: 3px;'>0.6000</td><td style='text-align:right;padding: 3px;'>0.4000</td></tr><tr><th style='border:1px solid black;color:black;background-color:#BBBBBB'><center>2</center></th><td style='text-align:right;padding: 3px;'>0.0000</td><td style='text-align:right;padding: 3px;'>1.0000</td></tr><tr><th style='border:1px solid black;color:black;background-color:#BBBBBB'><center>3</center></th><td style='text-align:right;padding: 3px;'>0.0000</td><td style='text-align:right;padding: 3px;'>0.0000</td></tr></table>"
      ],
      "text/plain": [
       "<IPython.core.display.HTML object>"
      ]
     },
     "metadata": {},
     "output_type": "display_data"
    }
   ],
   "source": [
    "\n",
    "\n",
    "# You can loop through all nodes and display their CPTs\n",
    "for node in ['Medu', 'Fedu', 'Higher', 'Absences', 'Failures', 'StudyTime', 'FinalGrade']:\n",
    "    print(f\"\\nCPT of {node}:\")\n",
    "    gnb.showPotential(bn.cpt(node))"
   ]
  },
  {
   "cell_type": "markdown",
   "metadata": {},
   "source": [
    "Illustrating Inference Results\n",
    "To visualize the results of inference (e.g., after setting evidence), you can use the following:"
   ]
  },
  {
   "cell_type": "code",
   "execution_count": 18,
   "metadata": {},
   "outputs": [
    {
     "data": {
      "text/html": [
       "<table style=\"border:1px solid black;border-collapse: collapse;\"><tr style='border:1px solid black;color:black;background-color:#808080'>\n",
       "      <th colspan='2'><center>FinalGrade</center></th></tr><tr><th style='border:1px solid black;border-bottom-style: double;color:black;background-color:#BBBBBB'>\n",
       "      <center>0</center></th><th style='border:1px solid black;border-bottom-style: double;color:black;background-color:#BBBBBB'>\n",
       "      <center>1</center></th></tr><tr><td style='color:black;background-color:#bfbf64;text-align:right;padding: 3px;'>0.5000</td><td style='color:black;background-color:#bfbf64;text-align:right;padding: 3px;'>0.5000</td></tr></table>"
      ],
      "text/plain": [
       "<IPython.core.display.HTML object>"
      ]
     },
     "metadata": {},
     "output_type": "display_data"
    }
   ],
   "source": [
    "# Inference example\n",
    "ie = gum.LazyPropagation(bn)\n",
    "ie.setEvidence({\n",
    "    'Medu': 1,\n",
    "    'Fedu': 0,\n",
    "    'Higher': 1,\n",
    "    'StudyTime':0,\n",
    "    'Failures': 1\n",
    "})\n",
    "ie.makeInference()\n",
    "\n",
    "# Display the posterior distribution of FinalGrade\n",
    "gnb.showPotential(ie.posterior(bn.idFromName('FinalGrade')))\n"
   ]
  }
 ],
 "metadata": {
  "kernelspec": {
   "display_name": "tut1",
   "language": "python",
   "name": "python3"
  },
  "language_info": {
   "codemirror_mode": {
    "name": "ipython",
    "version": 3
   },
   "file_extension": ".py",
   "mimetype": "text/x-python",
   "name": "python",
   "nbconvert_exporter": "python",
   "pygments_lexer": "ipython3",
   "version": "3.12.1"
  }
 },
 "nbformat": 4,
 "nbformat_minor": 2
}
